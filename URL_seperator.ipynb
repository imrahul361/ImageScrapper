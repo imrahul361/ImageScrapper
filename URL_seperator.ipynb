{
 "cells": [
  {
   "cell_type": "code",
   "execution_count": 18,
   "metadata": {},
   "outputs": [],
   "source": [
    "import urllib.request\n",
    "import pandas as pd"
   ]
  },
  {
   "cell_type": "code",
   "execution_count": null,
   "metadata": {},
   "outputs": [],
   "source": [
    "data = pd.read_csv(\"<path to input file>\",sep=\"\\t\",header= None,names=[<column name>])\n",
    "X = data.iloc[:,2].values.astype(\"object\")\n",
    "with open(\"<path to save the output file>\",\"w+\") as f:\n",
    "    for i in range(0,46461):\n",
    "        try:\n",
    "            f1.write((X[i])+\"\\n\")\n",
    "        except:\n",
    "            pass\n",
    "    f.close();    "
   ]
  }
 ],
 "metadata": {
  "kernelspec": {
   "display_name": "Python 3",
   "language": "python",
   "name": "python3"
  },
  "language_info": {
   "codemirror_mode": {
    "name": "ipython",
    "version": 3
   },
   "file_extension": ".py",
   "mimetype": "text/x-python",
   "name": "python",
   "nbconvert_exporter": "python",
   "pygments_lexer": "ipython3",
   "version": "3.7.3"
  }
 },
 "nbformat": 4,
 "nbformat_minor": 2
}
