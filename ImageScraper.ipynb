{
 "cells": [
  {
   "cell_type": "code",
   "execution_count": 2,
   "metadata": {},
   "outputs": [],
   "source": [
    "import urllib"
   ]
  },
  {
   "cell_type": "code",
   "execution_count": null,
   "metadata": {},
   "outputs": [],
   "source": [
    "with open(\"<path to Url list file>\") as f:\n",
    "    i=0\n",
    "    for line in f: \n",
    "        content = f.readline()\n",
    "        try:\n",
    "            urllib.request.urlretrieve(content,\"<Directory for Image Storage>/\"+\"<Filename>\"+str(i)+\".jpg\")\n",
    "            i += 1\n",
    "            print(\"success\")\n",
    "        except:\n",
    "            print(\"failed\")\n",
    "            pass"
   ]
  }
 ],
 "metadata": {
  "kernelspec": {
   "display_name": "Python 3",
   "language": "python",
   "name": "python3"
  },
  "language_info": {
   "codemirror_mode": {
    "name": "ipython",
    "version": 3
   },
   "file_extension": ".py",
   "mimetype": "text/x-python",
   "name": "python",
   "nbconvert_exporter": "python",
   "pygments_lexer": "ipython3",
   "version": "3.7.3"
  }
 },
 "nbformat": 4,
 "nbformat_minor": 2
}
